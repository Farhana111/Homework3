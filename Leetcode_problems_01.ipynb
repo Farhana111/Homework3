{
  "nbformat": 4,
  "nbformat_minor": 0,
  "metadata": {
    "colab": {
      "name": "Untitled9.ipynb",
      "provenance": [],
      "authorship_tag": "ABX9TyMuk3ivHaZXbriwjM0U9BT2",
      "include_colab_link": true
    },
    "kernelspec": {
      "name": "python3",
      "display_name": "Python 3"
    },
    "language_info": {
      "name": "python"
    }
  },
  "cells": [
    {
      "cell_type": "markdown",
      "metadata": {
        "id": "view-in-github",
        "colab_type": "text"
      },
      "source": [
        "<a href=\"https://colab.research.google.com/github/Farhana111/Homework3/blob/main/Leetcode_problems_01.ipynb\" target=\"_parent\"><img src=\"https://colab.research.google.com/assets/colab-badge.svg\" alt=\"Open In Colab\"/></a>"
      ]
    },
    {
      "cell_type": "markdown",
      "source": [
        "# Convert Roman to Interger"
      ],
      "metadata": {
        "id": "0qrmkrxIvCXB"
      }
    },
    {
      "cell_type": "code",
      "execution_count": 5,
      "metadata": {
        "colab": {
          "base_uri": "https://localhost:8080/"
        },
        "id": "CzBMHsE9r46p",
        "outputId": "96ba20b5-ef6b-4fd2-99c7-2ecc0a1fa23b"
      },
      "outputs": [
        {
          "output_type": "stream",
          "name": "stdout",
          "text": [
            "14\n",
            "443\n"
          ]
        }
      ],
      "source": [
        "\n",
        "def romanToInt(s):\n",
        "      roman = {'I':1,'V':5,'X':10,'L':50,'C':100,'D':500,'M':1000,'IV':4,'IX':9,'XL':40,'XC':90,'CD':400,'CM':900}\n",
        "      i = 0\n",
        "      num = 0\n",
        "      while i < len(s):\n",
        "         if i+1<len(s) and s[i:i+2] in roman:\n",
        "            num+=roman[s[i:i+2]]\n",
        "            i+=2\n",
        "         else:\n",
        "            num+=roman[s[i]]\n",
        "            i+=1\n",
        "      return num\n",
        "\n",
        "print(romanToInt(\"XIV\"))\n",
        "print(romanToInt(\"CDXLIII\"))"
      ]
    }
  ]
}