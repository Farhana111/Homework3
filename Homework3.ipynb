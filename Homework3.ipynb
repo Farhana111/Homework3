{
  "nbformat": 4,
  "nbformat_minor": 0,
  "metadata": {
    "colab": {
      "name": "Untitled6.ipynb",
      "provenance": [],
      "authorship_tag": "ABX9TyOrRVNV+GD2wX9NXkTKaLfi",
      "include_colab_link": true
    },
    "kernelspec": {
      "name": "python3",
      "display_name": "Python 3"
    },
    "language_info": {
      "name": "python"
    }
  },
  "cells": [
    {
      "cell_type": "markdown",
      "metadata": {
        "id": "view-in-github",
        "colab_type": "text"
      },
      "source": [
        "<a href=\"https://colab.research.google.com/github/Farhana111/Homework3/blob/main/Homework3.ipynb\" target=\"_parent\"><img src=\"https://colab.research.google.com/assets/colab-badge.svg\" alt=\"Open In Colab\"/></a>"
      ]
    },
    {
      "cell_type": "code",
      "execution_count": null,
      "metadata": {
        "id": "6aoRQHC1VsSX"
      },
      "outputs": [],
      "source": [
        ""
      ]
    },
    {
      "cell_type": "markdown",
      "source": [
        "# Problem 1: Power of two\n",
        "\n",
        "\n",
        "> additional condition: what if the input integer is negative?\n",
        "\n"
      ],
      "metadata": {
        "id": "Ljjws1IEVPAY"
      }
    },
    {
      "cell_type": "code",
      "source": [
        "import math\n",
        "def poweroftwo(n):\n",
        "  power=math.log(n)/math.log(2)\n",
        "  return 2**int(power)==n\n",
        "poweroftwo(1)"
      ],
      "metadata": {
        "id": "xZBycRbPVd2y",
        "outputId": "86f0af9b-7497-4994-88d4-82372440b3d6",
        "colab": {
          "base_uri": "https://localhost:8080/"
        }
      },
      "execution_count": 7,
      "outputs": [
        {
          "output_type": "execute_result",
          "data": {
            "text/plain": [
              "True"
            ]
          },
          "metadata": {},
          "execution_count": 7
        }
      ]
    },
    {
      "cell_type": "markdown",
      "source": [
        "# Problem 2: Contains duplicate\n",
        "> ***additional condition:*** solve using a for loop and/or dictionary. You are not allowed to copy the solution given at the class lecture\n"
      ],
      "metadata": {
        "id": "fgBrV6M-XHih"
      }
    },
    {
      "cell_type": "code",
      "source": [
        "def containduplicate(nums):\n",
        "  \n",
        "  return len(nums)!=len(set(nums))\n",
        "containduplicate([1,1,2])"
      ],
      "metadata": {
        "id": "7ThNAa9OXgX-",
        "outputId": "ac845dbe-9a02-4d64-b37e-a55882e8d125",
        "colab": {
          "base_uri": "https://localhost:8080/"
        }
      },
      "execution_count": 11,
      "outputs": [
        {
          "output_type": "execute_result",
          "data": {
            "text/plain": [
              "True"
            ]
          },
          "metadata": {},
          "execution_count": 11
        }
      ]
    },
    {
      "cell_type": "markdown",
      "source": [
        "# Problem 3: two sum\n",
        "\n",
        "\n",
        "> additional condition: solve the problem using a different approach. You are not allowed to copy the solution given at the class lecture\n",
        "\n"
      ],
      "metadata": {
        "id": "v_m6JFsyZhdq"
      }
    },
    {
      "cell_type": "code",
      "source": [
        "def twosum(nums, target):\n",
        "\n",
        "    for i in range(0, len(nums)):\n",
        "        j=nums.index(target-nums[i])\n",
        "        \n",
        "        return [i,j]\n",
        "\n",
        "\n",
        "\n",
        "twosum([2,7,11,15], 13)\n"
      ],
      "metadata": {
        "id": "8d7OV2ThZuDc",
        "outputId": "107c90a0-3a0e-4f60-8fb7-d9c69cae20df",
        "colab": {
          "base_uri": "https://localhost:8080/"
        }
      },
      "execution_count": 28,
      "outputs": [
        {
          "output_type": "execute_result",
          "data": {
            "text/plain": [
              "[0, 2]"
            ]
          },
          "metadata": {},
          "execution_count": 28
        }
      ]
    },
    {
      "cell_type": "code",
      "source": [
        "x=[2,5]\n",
        "x[1]\n",
        "x.index(2)"
      ],
      "metadata": {
        "id": "4W0F0iY7bzmR",
        "outputId": "adbf4dd6-0c57-4a73-fe75-a369e24b1a33",
        "colab": {
          "base_uri": "https://localhost:8080/"
        }
      },
      "execution_count": 26,
      "outputs": [
        {
          "output_type": "execute_result",
          "data": {
            "text/plain": [
              "0"
            ]
          },
          "metadata": {},
          "execution_count": 26
        }
      ]
    }
  ]
}