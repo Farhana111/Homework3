{
  "nbformat": 4,
  "nbformat_minor": 0,
  "metadata": {
    "colab": {
      "name": "Untitled9.ipynb",
      "provenance": [],
      "authorship_tag": "ABX9TyNO71abKpbevmFjs8zIC8Yl",
      "include_colab_link": true
    },
    "kernelspec": {
      "name": "python3",
      "display_name": "Python 3"
    },
    "language_info": {
      "name": "python"
    }
  },
  "cells": [
    {
      "cell_type": "markdown",
      "metadata": {
        "id": "view-in-github",
        "colab_type": "text"
      },
      "source": [
        "<a href=\"https://colab.research.google.com/github/Farhana111/Homework3/blob/main/leetcode_practice.ipynb\" target=\"_parent\"><img src=\"https://colab.research.google.com/assets/colab-badge.svg\" alt=\"Open In Colab\"/></a>"
      ]
    },
    {
      "cell_type": "markdown",
      "source": [
        "# Convert Roman to Interger"
      ],
      "metadata": {
        "id": "0qrmkrxIvCXB"
      }
    },
    {
      "cell_type": "code",
      "execution_count": 31,
      "metadata": {
        "colab": {
          "base_uri": "https://localhost:8080/"
        },
        "id": "CzBMHsE9r46p",
        "outputId": "91a15b9f-8d2a-4938-8a52-e2094f307155"
      },
      "outputs": [
        {
          "output_type": "stream",
          "name": "stdout",
          "text": [
            "14\n",
            "443\n"
          ]
        }
      ],
      "source": [
        "\n",
        "def romanToInt(s):\n",
        "      roman = {'I':1,'V':5,'X':10,'L':50,'C':100,'D':500,'M':1000,'IV':4,'IX':9,'XL':40,'XC':90,'CD':400,'CM':900}\n",
        "      i = 0\n",
        "      num = 0\n",
        "      while i < len(s):\n",
        "         if i+1<len(s) and s[i:i+2] in roman:\n",
        "            num+=roman[s[i:i+2]]\n",
        "            i+=2\n",
        "         else:\n",
        "            num+=roman[s[i]]\n",
        "            i+=1\n",
        "      return num\n",
        "\n",
        "print(romanToInt(\"XIV\"))\n",
        "print(romanToInt(\"CDXLIII\"))"
      ]
    },
    {
      "cell_type": "markdown",
      "source": [
        "# while loop and"
      ],
      "metadata": {
        "id": "cGXcoCyFv7Yi"
      }
    },
    {
      "cell_type": "code",
      "source": [
        "i=0\n",
        "n=100\n",
        "while i**2<=n:\n",
        "  if i>0 and int(i/2)==i/2 :\n",
        "    print(i,i**2)\n",
        "  i=i+1\n"
      ],
      "metadata": {
        "colab": {
          "base_uri": "https://localhost:8080/"
        },
        "id": "ZXy2tHCxv6mM",
        "outputId": "dcd3eabd-7b77-4f29-ec7c-8b403ccfac59"
      },
      "execution_count": 21,
      "outputs": [
        {
          "output_type": "stream",
          "name": "stdout",
          "text": [
            "2 4\n",
            "4 16\n",
            "6 36\n",
            "8 64\n",
            "10 100\n"
          ]
        }
      ]
    },
    {
      "cell_type": "code",
      "source": [
        "roman = {'I':1,'V':5,'X':10,'L':50,'C':100,'D':500,'M':1000,'IV':4,'IX':9,'XL':40,'XC':90,'CD':400,'CM':900}\n",
        "type(roman)\n",
        "def romantoint(string):\n",
        "  i=0\n",
        "  integer_value=0\n",
        "  while i<len(string):\n",
        "    if i+1<len(string) and string[i:i+2] in roman:\n",
        "      integer_value+=roman[string[i:i+2]]\n",
        "      print(\"first option\",i, roman[string[i:i+2]])\n",
        "      i+=2\n",
        "    else:\n",
        "      integer_value+=roman[string[i]]\n",
        "      print(\"second option\",i, roman[string[i]])\n",
        "      i+=1\n",
        "  return (integer_value)\n",
        "\n",
        "romantoint(\"MCD\")"
      ],
      "metadata": {
        "colab": {
          "base_uri": "https://localhost:8080/"
        },
        "id": "8ekOsCacycaD",
        "outputId": "ed07a1eb-04f6-47cb-a0e2-2dbead0f375f"
      },
      "execution_count": 43,
      "outputs": [
        {
          "output_type": "stream",
          "name": "stdout",
          "text": [
            "second option 0 1000\n",
            "first option 1 400\n"
          ]
        },
        {
          "output_type": "execute_result",
          "data": {
            "text/plain": [
              "1400"
            ]
          },
          "metadata": {},
          "execution_count": 43
        }
      ]
    }
  ]
}